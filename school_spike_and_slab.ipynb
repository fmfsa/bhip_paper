{
 "cells": [
  {
   "metadata": {
    "ExecuteTime": {
     "end_time": "2025-02-05T23:51:23.426859Z",
     "start_time": "2025-02-05T23:51:22.986032Z"
    }
   },
   "cell_type": "code",
   "source": [
    "from src.hierarchical_model import spike_slab_hierarchical_model, horseshoe_hierarchical_model\n",
    "from jax import random\n",
    "from numpyro.infer import MCMC, NUTS, DiscreteHMCGibbs\n",
    "import jax.numpy as jnp\n",
    "import pandas as pd\n",
    "from sklearn.preprocessing import StandardScaler\n",
    "import numpy as np\n",
    "\n",
    "np.random.seed(42)"
   ],
   "id": "90d4037bd14e1af5",
   "outputs": [],
   "execution_count": 1
  },
  {
   "metadata": {
    "ExecuteTime": {
     "end_time": "2025-02-05T23:51:23.938970Z",
     "start_time": "2025-02-05T23:51:23.431619Z"
    }
   },
   "cell_type": "code",
   "source": [
    "# Load the dataset directly from the Rdatasets repository\n",
    "url = \"https://vincentarelbundock.github.io/Rdatasets/csv/AER/CollegeDistance.csv\"\n",
    "df = pd.read_csv(url)\n",
    "\n",
    "# Display the first few rows\n",
    "print(df.head())"
   ],
   "id": "e6d4378dd11952d9",
   "outputs": [
    {
     "name": "stdout",
     "output_type": "stream",
     "text": [
      "   rownames  gender ethnicity      score fcollege mcollege home urban  unemp  \\\n",
      "0         1    male     other  39.150002      yes       no  yes   yes    6.2   \n",
      "1         2  female     other  48.869999       no       no  yes   yes    6.2   \n",
      "2         3    male     other  48.740002       no       no  yes   yes    6.2   \n",
      "3         4    male      afam  40.400002       no       no  yes   yes    6.2   \n",
      "4         5  female     other  40.480000       no       no   no   yes    5.6   \n",
      "\n",
      "   wage  distance  tuition  education income region  \n",
      "0  8.09       0.2  0.88915         12   high  other  \n",
      "1  8.09       0.2  0.88915         12    low  other  \n",
      "2  8.09       0.2  0.88915         12    low  other  \n",
      "3  8.09       0.2  0.88915         12    low  other  \n",
      "4  8.09       0.4  0.88915         13    low  other  \n"
     ]
    }
   ],
   "execution_count": 2
  },
  {
   "metadata": {
    "ExecuteTime": {
     "end_time": "2025-02-05T23:51:23.995898Z",
     "start_time": "2025-02-05T23:51:23.983325Z"
    }
   },
   "cell_type": "code",
   "source": [
    "# Drop the unnecessary index column\n",
    "df = df.drop(columns=[\"rownames\"])\n",
    "\n",
    "# Summary of the dataset\n",
    "df.info()\n",
    "df.describe()\n"
   ],
   "id": "18432e689e8c89ab",
   "outputs": [
    {
     "name": "stdout",
     "output_type": "stream",
     "text": [
      "<class 'pandas.core.frame.DataFrame'>\n",
      "RangeIndex: 4739 entries, 0 to 4738\n",
      "Data columns (total 14 columns):\n",
      " #   Column     Non-Null Count  Dtype  \n",
      "---  ------     --------------  -----  \n",
      " 0   gender     4739 non-null   object \n",
      " 1   ethnicity  4739 non-null   object \n",
      " 2   score      4739 non-null   float64\n",
      " 3   fcollege   4739 non-null   object \n",
      " 4   mcollege   4739 non-null   object \n",
      " 5   home       4739 non-null   object \n",
      " 6   urban      4739 non-null   object \n",
      " 7   unemp      4739 non-null   float64\n",
      " 8   wage       4739 non-null   float64\n",
      " 9   distance   4739 non-null   float64\n",
      " 10  tuition    4739 non-null   float64\n",
      " 11  education  4739 non-null   int64  \n",
      " 12  income     4739 non-null   object \n",
      " 13  region     4739 non-null   object \n",
      "dtypes: float64(5), int64(1), object(8)\n",
      "memory usage: 518.5+ KB\n"
     ]
    },
    {
     "data": {
      "text/plain": [
       "             score        unemp         wage     distance      tuition  \\\n",
       "count  4739.000000  4739.000000  4739.000000  4739.000000  4739.000000   \n",
       "mean     50.889029     7.597215     9.500506     1.802870     0.814608   \n",
       "std       8.701910     2.763581     1.343067     2.297128     0.339504   \n",
       "min      28.950001     1.400000     6.590000     0.000000     0.257510   \n",
       "25%      43.924999     5.900000     8.850000     0.400000     0.484990   \n",
       "50%      51.189999     7.100000     9.680000     1.000000     0.824480   \n",
       "75%      57.769999     8.900000    10.150000     2.500000     1.127020   \n",
       "max      72.809998    24.900000    12.960000    20.000000     1.404160   \n",
       "\n",
       "         education  \n",
       "count  4739.000000  \n",
       "mean     13.807765  \n",
       "std       1.789107  \n",
       "min      12.000000  \n",
       "25%      12.000000  \n",
       "50%      13.000000  \n",
       "75%      16.000000  \n",
       "max      18.000000  "
      ],
      "text/html": [
       "<div>\n",
       "<style scoped>\n",
       "    .dataframe tbody tr th:only-of-type {\n",
       "        vertical-align: middle;\n",
       "    }\n",
       "\n",
       "    .dataframe tbody tr th {\n",
       "        vertical-align: top;\n",
       "    }\n",
       "\n",
       "    .dataframe thead th {\n",
       "        text-align: right;\n",
       "    }\n",
       "</style>\n",
       "<table border=\"1\" class=\"dataframe\">\n",
       "  <thead>\n",
       "    <tr style=\"text-align: right;\">\n",
       "      <th></th>\n",
       "      <th>score</th>\n",
       "      <th>unemp</th>\n",
       "      <th>wage</th>\n",
       "      <th>distance</th>\n",
       "      <th>tuition</th>\n",
       "      <th>education</th>\n",
       "    </tr>\n",
       "  </thead>\n",
       "  <tbody>\n",
       "    <tr>\n",
       "      <th>count</th>\n",
       "      <td>4739.000000</td>\n",
       "      <td>4739.000000</td>\n",
       "      <td>4739.000000</td>\n",
       "      <td>4739.000000</td>\n",
       "      <td>4739.000000</td>\n",
       "      <td>4739.000000</td>\n",
       "    </tr>\n",
       "    <tr>\n",
       "      <th>mean</th>\n",
       "      <td>50.889029</td>\n",
       "      <td>7.597215</td>\n",
       "      <td>9.500506</td>\n",
       "      <td>1.802870</td>\n",
       "      <td>0.814608</td>\n",
       "      <td>13.807765</td>\n",
       "    </tr>\n",
       "    <tr>\n",
       "      <th>std</th>\n",
       "      <td>8.701910</td>\n",
       "      <td>2.763581</td>\n",
       "      <td>1.343067</td>\n",
       "      <td>2.297128</td>\n",
       "      <td>0.339504</td>\n",
       "      <td>1.789107</td>\n",
       "    </tr>\n",
       "    <tr>\n",
       "      <th>min</th>\n",
       "      <td>28.950001</td>\n",
       "      <td>1.400000</td>\n",
       "      <td>6.590000</td>\n",
       "      <td>0.000000</td>\n",
       "      <td>0.257510</td>\n",
       "      <td>12.000000</td>\n",
       "    </tr>\n",
       "    <tr>\n",
       "      <th>25%</th>\n",
       "      <td>43.924999</td>\n",
       "      <td>5.900000</td>\n",
       "      <td>8.850000</td>\n",
       "      <td>0.400000</td>\n",
       "      <td>0.484990</td>\n",
       "      <td>12.000000</td>\n",
       "    </tr>\n",
       "    <tr>\n",
       "      <th>50%</th>\n",
       "      <td>51.189999</td>\n",
       "      <td>7.100000</td>\n",
       "      <td>9.680000</td>\n",
       "      <td>1.000000</td>\n",
       "      <td>0.824480</td>\n",
       "      <td>13.000000</td>\n",
       "    </tr>\n",
       "    <tr>\n",
       "      <th>75%</th>\n",
       "      <td>57.769999</td>\n",
       "      <td>8.900000</td>\n",
       "      <td>10.150000</td>\n",
       "      <td>2.500000</td>\n",
       "      <td>1.127020</td>\n",
       "      <td>16.000000</td>\n",
       "    </tr>\n",
       "    <tr>\n",
       "      <th>max</th>\n",
       "      <td>72.809998</td>\n",
       "      <td>24.900000</td>\n",
       "      <td>12.960000</td>\n",
       "      <td>20.000000</td>\n",
       "      <td>1.404160</td>\n",
       "      <td>18.000000</td>\n",
       "    </tr>\n",
       "  </tbody>\n",
       "</table>\n",
       "</div>"
      ]
     },
     "execution_count": 3,
     "metadata": {},
     "output_type": "execute_result"
    }
   ],
   "execution_count": 3
  },
  {
   "metadata": {
    "ExecuteTime": {
     "end_time": "2025-02-05T23:51:24.118360Z",
     "start_time": "2025-02-05T23:51:24.110223Z"
    }
   },
   "cell_type": "code",
   "source": [
    "# Ensure the target variable `education` is binary\n",
    "df['education'] = (df['education'] > 16).astype(int)\n",
    "\n",
    "df[\"environment\"] = np.where(df[\"distance\"] <= (df['distance'].median()).astype(int), 0, 1)\n",
    "e = df['environment'].values\n",
    "E = len(df['environment'].unique())\n",
    "\n",
    "scaler = StandardScaler()\n",
    "continuous_cols = ['score', 'tuition', 'unemp', 'wage']\n",
    "df[continuous_cols] = scaler.fit_transform(df[continuous_cols])\n",
    "\n",
    "# Convert categorical variables to dummies\n",
    "df = pd.get_dummies(\n",
    "    df,\n",
    "    columns=['gender', 'ethnicity', 'fcollege', 'mcollege', 'home', 'urban', 'income', 'region'],\n",
    "    drop_first=True\n",
    ")"
   ],
   "id": "c958b646707328ed",
   "outputs": [],
   "execution_count": 4
  },
  {
   "metadata": {
    "ExecuteTime": {
     "end_time": "2025-02-05T23:51:24.177458Z",
     "start_time": "2025-02-05T23:51:24.139225Z"
    }
   },
   "cell_type": "code",
   "source": [
    "n_environments = 2\n",
    "\n",
    "X_cols = [col for col in df.columns if col not in ['education', 'environment', 'distance']]\n",
    "X = df[X_cols].values\n",
    "Y = df['education'].values\n",
    "\n",
    "# Convert to JAX arrays\n",
    "X_jax = jnp.array(X, dtype=jnp.float32)\n",
    "Y_jax = jnp.array(Y, dtype=jnp.int32)  # Must be integers for Bernoulli\n",
    "e_jax = jnp.array(e, dtype=jnp.int32)"
   ],
   "id": "a2d43dd3b65979f0",
   "outputs": [],
   "execution_count": 5
  },
  {
   "metadata": {},
   "cell_type": "markdown",
   "source": "# RUN THIS FOR HORSESHOE",
   "id": "b072dce4e1c6ac1e"
  },
  {
   "metadata": {
    "ExecuteTime": {
     "end_time": "2025-02-05T23:51:44.993683Z",
     "start_time": "2025-02-05T23:51:24.185895Z"
    }
   },
   "cell_type": "code",
   "source": [
    "kernel = NUTS(horseshoe_hierarchical_model)\n",
    "mcmc = MCMC(kernel, num_warmup=1000, num_samples=2000, num_chains=1)\n",
    "mcmc.run(\n",
    "random.PRNGKey(42), N=X_jax.shape[0], D=X_jax.shape[1],\n",
    "         E=E, e=e_jax, X=X_jax, y=Y_jax\n",
    ")\n",
    "posterior_samples = mcmc.get_samples()\n",
    "mcmc.print_summary()\n"
   ],
   "id": "fde3b3a45b3125d7",
   "outputs": [
    {
     "name": "stderr",
     "output_type": "stream",
     "text": [
      "sample: 100%|██████████| 3000/3000 [00:19<00:00, 154.53it/s, 63 steps of size 6.86e-02. acc. prob=0.87] \n"
     ]
    },
    {
     "name": "stdout",
     "output_type": "stream",
     "text": [
      "\n",
      "                      mean       std    median      5.0%     95.0%     n_eff     r_hat\n",
      "       beta[0,0]      0.05      0.01      0.05      0.04      0.06   2315.22      1.00\n",
      "       beta[0,1]      0.00      0.00      0.00     -0.00      0.01    945.22      1.00\n",
      "       beta[0,2]     -0.00      0.00     -0.00     -0.01      0.00   2011.16      1.00\n",
      "       beta[0,3]      0.00      0.00      0.00     -0.01      0.01   1354.22      1.00\n",
      "       beta[0,4]      0.00      0.01      0.00     -0.01      0.01   1394.94      1.00\n",
      "       beta[0,5]      0.02      0.01      0.02      0.00      0.04   1377.88      1.00\n",
      "       beta[0,6]      0.00      0.01      0.00     -0.01      0.01   1021.18      1.00\n",
      "       beta[0,7]      0.05      0.01      0.05      0.02      0.07   1615.37      1.00\n",
      "       beta[0,8]      0.04      0.02      0.04      0.02      0.07   1399.71      1.00\n",
      "       beta[0,9]      0.04      0.01      0.04      0.03      0.06   1262.31      1.00\n",
      "      beta[0,10]      0.01      0.01      0.01     -0.00      0.02   1010.98      1.00\n",
      "      beta[0,11]      0.01      0.01      0.01     -0.00      0.02    731.71      1.00\n",
      "      beta[0,12]     -0.01      0.01     -0.00     -0.03      0.01    797.65      1.00\n",
      "       beta[1,0]      0.04      0.01      0.04      0.03      0.05   2093.09      1.00\n",
      "       beta[1,1]     -0.00      0.00     -0.00     -0.01      0.00   2228.90      1.00\n",
      "       beta[1,2]     -0.01      0.01     -0.01     -0.01      0.00    989.89      1.00\n",
      "       beta[1,3]     -0.00      0.00     -0.00     -0.01      0.01   1289.04      1.00\n",
      "       beta[1,4]      0.01      0.01      0.01     -0.00      0.02   1175.38      1.00\n",
      "       beta[1,5]      0.04      0.02      0.04      0.01      0.07    878.25      1.00\n",
      "       beta[1,6]      0.01      0.01      0.00     -0.01      0.02    742.61      1.00\n",
      "       beta[1,7]      0.06      0.02      0.06      0.03      0.08   1797.09      1.00\n",
      "       beta[1,8]      0.01      0.02      0.01     -0.02      0.04   1717.77      1.00\n",
      "       beta[1,9]      0.03      0.01      0.04      0.02      0.05   1023.19      1.00\n",
      "      beta[1,10]     -0.00      0.01     -0.00     -0.02      0.02   1124.81      1.00\n",
      "      beta[1,11]     -0.00      0.01     -0.00     -0.01      0.01   1417.99      1.00\n",
      "      beta[1,12]     -0.00      0.01     -0.00     -0.02      0.01   1239.66      1.00\n",
      " lambda_local[0]      3.40      3.24      2.58      0.60      6.27    953.27      1.00\n",
      " lambda_local[1]      0.42      0.55      0.26      0.00      0.96    706.93      1.00\n",
      " lambda_local[2]      0.59      0.61      0.40      0.01      1.29    723.46      1.00\n",
      " lambda_local[3]      0.42      0.64      0.26      0.01      0.94   1327.38      1.00\n",
      " lambda_local[4]      0.71      0.81      0.48      0.01      1.55    898.57      1.00\n",
      " lambda_local[5]      2.75      3.12      2.06      0.36      5.32    898.76      1.00\n",
      " lambda_local[6]      0.73      0.81      0.51      0.01      1.56    999.66      1.00\n",
      " lambda_local[7]      3.91      3.44      2.96      0.71      7.72    687.46      1.00\n",
      " lambda_local[8]      2.66      2.56      1.91      0.27      5.12    628.88      1.01\n",
      " lambda_local[9]      3.01      2.85      2.25      0.56      5.73    920.50      1.00\n",
      "lambda_local[10]      0.83      1.04      0.58      0.01      1.68   1066.74      1.00\n",
      "lambda_local[11]      0.75      0.82      0.53      0.01      1.59    731.29      1.00\n",
      "lambda_local[12]      0.82      1.01      0.57      0.01      1.71    896.37      1.00\n",
      "       sigma_obs      0.24      0.00      0.24      0.24      0.25   2019.26      1.00\n",
      "      tau_global      0.02      0.01      0.02      0.01      0.03    671.80      1.00\n",
      "\n",
      "Number of divergences: 96\n"
     ]
    }
   ],
   "execution_count": 6
  },
  {
   "metadata": {
    "ExecuteTime": {
     "end_time": "2025-02-05T23:51:45.006698Z",
     "start_time": "2025-02-05T23:51:45.004123Z"
    }
   },
   "cell_type": "code",
   "source": "X_cols[0], X_cols[5], X_cols[7], X_cols[9]",
   "id": "23bae436faf585f1",
   "outputs": [
    {
     "data": {
      "text/plain": [
       "('score', 'ethnicity_hispanic', 'fcollege_yes', 'home_yes')"
      ]
     },
     "execution_count": 7,
     "metadata": {},
     "output_type": "execute_result"
    }
   ],
   "execution_count": 7
  },
  {
   "metadata": {},
   "cell_type": "markdown",
   "source": "# RUN THIS FOR SPIKE AND SLAB",
   "id": "3088522abf73ffa6"
  },
  {
   "metadata": {
    "ExecuteTime": {
     "end_time": "2025-02-05T23:52:36.684242Z",
     "start_time": "2025-02-05T23:51:45.014148Z"
    }
   },
   "cell_type": "code",
   "source": [
    "# 1) Define a base kernel for the *continuous* parameters\n",
    "base_kernel = NUTS(spike_slab_hierarchical_model)\n",
    "\n",
    "# 2) Wrap it with DiscreteHMCGibbs to handle the discrete site z\n",
    "kernel = DiscreteHMCGibbs(base_kernel, modified=True)\n",
    "# \"modified=True\" uses a 'random-propose' Gibbs update (somewhat better mixing),\n",
    "# or set \"modified=False\" for standard approach.\n",
    "\n",
    "mcmc = MCMC(kernel, num_warmup=500, num_samples=500, num_chains=1)\n",
    "mcmc.run(random.PRNGKey(42), N=X_jax.shape[0], D=X_jax.shape[1],\n",
    "         E=E, e=e_jax, X=X_jax, y=Y_jax)\n",
    "posterior = mcmc.get_samples()\n",
    "mcmc.print_summary()\n"
   ],
   "id": "ed3498427927ebe7",
   "outputs": [
    {
     "name": "stderr",
     "output_type": "stream",
     "text": [
      "sample: 100%|██████████| 1000/1000 [00:50<00:00, 19.90it/s, 482 steps of size 1.05e-02. acc. prob=0.87]\n"
     ]
    },
    {
     "name": "stdout",
     "output_type": "stream",
     "text": [
      "\n",
      "                     mean       std    median      5.0%     95.0%     n_eff     r_hat\n",
      "          mu[0]      0.05      0.17      0.04     -0.19      0.26     89.24      1.00\n",
      "          mu[1]      0.04      1.08      0.01     -1.68      1.77    333.76      1.00\n",
      "          mu[2]      0.01      0.97     -0.02     -1.53      1.59    421.51      1.00\n",
      "          mu[3]      0.04      0.99      0.04     -1.50      1.72    387.19      1.00\n",
      "          mu[4]      0.02      1.06      0.02     -2.03      1.47    382.29      1.00\n",
      "          mu[5]      0.05      1.01      0.04     -1.46      1.60    372.38      1.00\n",
      "          mu[6]     -0.11      1.05     -0.13     -2.01      1.49    440.59      1.00\n",
      "          mu[7]      0.07      0.19      0.06     -0.18      0.35    188.24      1.00\n",
      "          mu[8]      0.05      1.04      0.04     -1.62      1.83    303.14      1.00\n",
      "          mu[9]     -0.00      1.14      0.00     -1.90      1.82    258.05      1.00\n",
      "         mu[10]     -0.03      1.01      0.02     -1.82      1.56    489.45      1.00\n",
      "         mu[11]      0.04      1.04      0.07     -1.44      1.85    248.68      1.00\n",
      "         mu[12]      0.03      1.05      0.06     -1.79      1.56    232.69      1.00\n",
      "      p_slab[0]      0.66      0.25      0.70      0.26      1.00    391.60      1.00\n",
      "      p_slab[1]      0.34      0.25      0.30      0.01      0.73    771.08      1.00\n",
      "      p_slab[2]      0.35      0.24      0.30      0.00      0.71    425.51      1.00\n",
      "      p_slab[3]      0.34      0.23      0.31      0.03      0.72    368.03      1.00\n",
      "      p_slab[4]      0.32      0.23      0.28      0.00      0.66    537.54      1.00\n",
      "      p_slab[5]      0.34      0.25      0.29      0.00      0.72    412.18      1.00\n",
      "      p_slab[6]      0.33      0.24      0.29      0.00      0.70    620.74      1.00\n",
      "      p_slab[7]      0.69      0.24      0.74      0.33      1.00    421.20      1.00\n",
      "      p_slab[8]      0.32      0.22      0.28      0.01      0.63    451.14      1.00\n",
      "      p_slab[9]      0.34      0.23      0.31      0.00      0.71    459.26      1.00\n",
      "     p_slab[10]      0.36      0.25      0.32      0.00      0.71    381.15      1.00\n",
      "     p_slab[11]      0.34      0.24      0.29      0.00      0.69    374.52      1.00\n",
      "     p_slab[12]      0.34      0.26      0.28      0.00      0.73    274.01      1.00\n",
      "      sigma_obs      0.24      0.00      0.24      0.24      0.25    571.19      1.00\n",
      "  slabBeta[0,0]      0.05      0.01      0.05      0.04      0.06    311.33      1.00\n",
      "  slabBeta[0,1]      1.53      6.13      0.11     -4.70      5.06     21.60      1.04\n",
      "  slabBeta[0,2]      0.46      4.18      0.07     -5.14      3.96     45.24      1.02\n",
      "  slabBeta[0,3]     -0.10      2.88     -0.02     -4.18      3.58    148.96      1.00\n",
      "  slabBeta[0,4]      0.15      2.90     -0.10     -4.14      3.24    245.17      1.00\n",
      "  slabBeta[0,5]      0.70      6.42      0.13     -6.29      5.30    171.33      1.00\n",
      "  slabBeta[0,6]     -0.85      5.14     -0.24     -3.15      3.37     43.97      1.02\n",
      "  slabBeta[0,7]      0.05      0.01      0.05      0.03      0.07    200.45      1.01\n",
      "  slabBeta[0,8]     -2.38     11.56     -0.00     -4.58      4.65     23.76      1.04\n",
      "  slabBeta[0,9]      0.53      3.80      0.20     -3.00      3.74    189.92      1.01\n",
      " slabBeta[0,10]      0.13      2.27      0.03     -3.56      3.09    267.08      1.01\n",
      " slabBeta[0,11]     -0.06      2.53      0.01     -2.99      3.73    152.82      1.01\n",
      " slabBeta[0,12]      0.04      2.17      0.06     -2.80      3.30    125.50      1.00\n",
      "  slabBeta[1,0]      0.04      0.01      0.04      0.03      0.05    413.94      1.00\n",
      "  slabBeta[1,1]     -0.30      2.49     -0.05     -3.12      4.20    141.14      1.00\n",
      "  slabBeta[1,2]      0.05      3.58     -0.03     -3.92      3.81    159.37      1.01\n",
      "  slabBeta[1,3]      1.43      5.85      0.28     -3.80      7.70     40.42      1.03\n",
      "  slabBeta[1,4]     -0.03      2.26     -0.03     -3.20      3.74    127.20      1.01\n",
      "  slabBeta[1,5]     -1.04      6.35     -0.09     -8.80      6.14     72.14      1.00\n",
      "  slabBeta[1,6]     -0.07      4.57     -0.07     -3.11      4.08    189.63      1.00\n",
      "  slabBeta[1,7]      0.06      0.01      0.06      0.04      0.09    506.89      1.00\n",
      "  slabBeta[1,8]     -0.65      6.95      0.06     -5.26      5.07     30.89      1.01\n",
      "  slabBeta[1,9]      0.27      3.64     -0.03     -4.44      3.83    127.09      1.00\n",
      " slabBeta[1,10]     -0.04      2.10     -0.05     -2.82      3.04    363.80      1.00\n",
      " slabBeta[1,11]      0.21      1.92      0.13     -2.63      3.36    137.64      1.01\n",
      " slabBeta[1,12]     -0.30      2.47      0.06     -3.05      2.40     39.86      1.04\n",
      " spikeBeta[0,0]      0.02      0.49     -0.01     -0.58      0.56    313.29      1.00\n",
      " spikeBeta[0,1]      0.00      0.01      0.00     -0.00      0.01    360.66      1.00\n",
      " spikeBeta[0,2]     -0.00      0.00     -0.00     -0.01      0.01    444.54      1.00\n",
      " spikeBeta[0,3]      0.00      0.00      0.00     -0.01      0.01    307.17      1.00\n",
      " spikeBeta[0,4]      0.00      0.01      0.00     -0.01      0.02    293.71      1.01\n",
      " spikeBeta[0,5]      0.02      0.01      0.02      0.00      0.04    296.95      1.00\n",
      " spikeBeta[0,6]      0.00      0.01      0.00     -0.01      0.02    433.57      1.00\n",
      " spikeBeta[0,7]      0.01      0.91     -0.00     -1.33      1.30    169.54      1.01\n",
      " spikeBeta[0,8]      0.05      0.02      0.05      0.02      0.07    316.88      1.01\n",
      " spikeBeta[0,9]      0.04      0.01      0.04      0.02      0.06    425.82      1.00\n",
      "spikeBeta[0,10]      0.01      0.01      0.01     -0.00      0.03    343.55      1.00\n",
      "spikeBeta[0,11]      0.01      0.01      0.01     -0.00      0.03    237.16      1.00\n",
      "spikeBeta[0,12]     -0.01      0.01     -0.01     -0.04      0.01    349.37      1.00\n",
      " spikeBeta[1,0]     -0.05      0.64     -0.00     -0.60      0.64    157.66      1.00\n",
      " spikeBeta[1,1]     -0.00      0.00     -0.00     -0.01      0.00    316.36      1.00\n",
      " spikeBeta[1,2]     -0.01      0.01     -0.01     -0.02      0.00    450.74      1.00\n",
      " spikeBeta[1,3]     -0.00      0.00     -0.00     -0.01      0.01    428.21      1.01\n",
      " spikeBeta[1,4]      0.01      0.01      0.01     -0.00      0.02    323.41      1.01\n",
      " spikeBeta[1,5]      0.05      0.02      0.05      0.03      0.09    324.34      1.00\n",
      " spikeBeta[1,6]      0.01      0.01      0.01     -0.00      0.03    214.09      1.00\n",
      " spikeBeta[1,7]      0.03      1.07      0.00     -1.32      1.46    204.16      1.00\n",
      " spikeBeta[1,8]      0.01      0.02      0.01     -0.02      0.03    425.54      1.01\n",
      " spikeBeta[1,9]      0.03      0.01      0.03      0.02      0.05    446.60      1.00\n",
      "spikeBeta[1,10]     -0.00      0.02     -0.00     -0.03      0.03    224.18      1.00\n",
      "spikeBeta[1,11]     -0.00      0.01     -0.00     -0.02      0.01    294.54      1.01\n",
      "spikeBeta[1,12]     -0.01      0.01     -0.01     -0.03      0.01    199.41      1.00\n",
      " spike_scale[0]      0.48      0.87      0.26      0.01      0.90     75.72      1.00\n",
      " spike_scale[1]      0.02      0.04      0.01      0.00      0.04    165.05      1.00\n",
      " spike_scale[2]      0.03      0.05      0.01      0.00      0.07    265.55      1.00\n",
      " spike_scale[3]      0.01      0.03      0.01      0.00      0.03    170.98      1.00\n",
      " spike_scale[4]      0.03      0.03      0.02      0.00      0.06    319.38      1.00\n",
      " spike_scale[5]      0.11      0.12      0.07      0.01      0.23    232.76      1.00\n",
      " spike_scale[6]      0.03      0.06      0.02      0.00      0.08    336.98      1.00\n",
      " spike_scale[7]      0.72      1.13      0.34      0.01      1.73     71.97      1.03\n",
      " spike_scale[8]      0.09      0.08      0.07      0.01      0.19    307.15      1.00\n",
      " spike_scale[9]      0.09      0.08      0.06      0.01      0.19    164.72      1.01\n",
      "spike_scale[10]      0.04      0.05      0.02      0.00      0.09    299.56      1.00\n",
      "spike_scale[11]      0.04      0.06      0.02      0.00      0.09    338.18      1.00\n",
      "spike_scale[12]      0.06      0.09      0.03      0.00      0.13    144.91      1.00\n",
      "         tau[0]      0.19      0.32      0.06      0.00      0.53    134.57      1.00\n",
      "         tau[1]      2.95      7.53      1.03      0.01      5.99     35.13      1.01\n",
      "         tau[2]      2.31      3.93      0.93      0.02      5.99     53.94      1.01\n",
      "         tau[3]      2.71      5.42      0.97      0.04      6.56     47.35      1.04\n",
      "         tau[4]      1.60      2.24      0.84      0.03      4.10     69.56      1.03\n",
      "         tau[5]      3.67      8.24      1.26      0.04      7.82     67.19      1.00\n",
      "         tau[6]      2.38      7.03      0.81      0.03      4.21     45.16      1.03\n",
      "         tau[7]      0.20      0.36      0.08      0.00      0.53    173.74      1.02\n",
      "         tau[8]      4.09     11.11      1.09      0.04      6.38     25.75      1.06\n",
      "         tau[9]      2.24      4.24      0.89      0.03      5.16     52.02      1.00\n",
      "        tau[10]      1.54      2.55      0.87      0.03      3.16    103.13      1.01\n",
      "        tau[11]      1.58      1.96      0.88      0.03      3.63    101.50      1.00\n",
      "        tau[12]      1.73      3.60      0.84      0.01      3.03     44.04      1.01\n",
      "           z[0]      1.00      0.00      1.00      1.00      1.00       nan       nan\n",
      "           z[1]      0.00      0.00      0.00      0.00      0.00       nan       nan\n",
      "           z[2]      0.00      0.00      0.00      0.00      0.00       nan       nan\n",
      "           z[3]      0.00      0.00      0.00      0.00      0.00       nan       nan\n",
      "           z[4]      0.00      0.00      0.00      0.00      0.00       nan       nan\n",
      "           z[5]      0.00      0.00      0.00      0.00      0.00       nan       nan\n",
      "           z[6]      0.00      0.00      0.00      0.00      0.00       nan       nan\n",
      "           z[7]      1.00      0.00      1.00      1.00      1.00       nan       nan\n",
      "           z[8]      0.00      0.00      0.00      0.00      0.00       nan       nan\n",
      "           z[9]      0.00      0.00      0.00      0.00      0.00       nan       nan\n",
      "          z[10]      0.00      0.00      0.00      0.00      0.00       nan       nan\n",
      "          z[11]      0.00      0.00      0.00      0.00      0.00       nan       nan\n",
      "          z[12]      0.00      0.00      0.00      0.00      0.00       nan       nan\n",
      "\n"
     ]
    }
   ],
   "execution_count": 8
  },
  {
   "metadata": {
    "ExecuteTime": {
     "end_time": "2025-02-05T23:52:36.695486Z",
     "start_time": "2025-02-05T23:52:36.693285Z"
    }
   },
   "cell_type": "code",
   "source": "X_cols[0], X_cols[7]\n",
   "id": "97478455fdc78e6f",
   "outputs": [
    {
     "data": {
      "text/plain": [
       "('score', 'fcollege_yes')"
      ]
     },
     "execution_count": 9,
     "metadata": {},
     "output_type": "execute_result"
    }
   ],
   "execution_count": 9
  },
  {
   "metadata": {
    "ExecuteTime": {
     "end_time": "2025-02-05T23:52:36.706977Z",
     "start_time": "2025-02-05T23:52:36.704851Z"
    }
   },
   "cell_type": "code",
   "source": "X_cols",
   "id": "24ec6e62a2013fc5",
   "outputs": [
    {
     "data": {
      "text/plain": [
       "['score',\n",
       " 'unemp',\n",
       " 'wage',\n",
       " 'tuition',\n",
       " 'gender_male',\n",
       " 'ethnicity_hispanic',\n",
       " 'ethnicity_other',\n",
       " 'fcollege_yes',\n",
       " 'mcollege_yes',\n",
       " 'home_yes',\n",
       " 'urban_yes',\n",
       " 'income_low',\n",
       " 'region_west']"
      ]
     },
     "execution_count": 10,
     "metadata": {},
     "output_type": "execute_result"
    }
   ],
   "execution_count": 10
  },
  {
   "metadata": {
    "ExecuteTime": {
     "end_time": "2025-02-05T23:52:36.716732Z",
     "start_time": "2025-02-05T23:52:36.715679Z"
    }
   },
   "cell_type": "code",
   "source": "",
   "id": "98fe44cccdc113c1",
   "outputs": [],
   "execution_count": null
  }
 ],
 "metadata": {
  "kernelspec": {
   "display_name": "Python 3",
   "language": "python",
   "name": "python3"
  },
  "language_info": {
   "codemirror_mode": {
    "name": "ipython",
    "version": 2
   },
   "file_extension": ".py",
   "mimetype": "text/x-python",
   "name": "python",
   "nbconvert_exporter": "python",
   "pygments_lexer": "ipython2",
   "version": "2.7.6"
  }
 },
 "nbformat": 4,
 "nbformat_minor": 5
}
