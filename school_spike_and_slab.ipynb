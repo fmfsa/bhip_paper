{
 "cells": [
  {
   "metadata": {
    "ExecuteTime": {
     "end_time": "2025-01-29T15:01:17.486821Z",
     "start_time": "2025-01-29T15:01:14.829477Z"
    }
   },
   "cell_type": "code",
   "source": [
    "from src.hierarchical_model import spike_slab_hierarchical_model, horseshoe_hierarchical_model\n",
    "from jax import random\n",
    "from numpyro.infer import MCMC, NUTS, DiscreteHMCGibbs\n",
    "import jax.numpy as jnp\n",
    "import pandas as pd\n",
    "from sklearn.preprocessing import StandardScaler\n",
    "import numpy as np\n",
    "\n",
    "np.random.seed(42)"
   ],
   "id": "90d4037bd14e1af5",
   "outputs": [],
   "execution_count": 1
  },
  {
   "metadata": {
    "ExecuteTime": {
     "end_time": "2025-01-29T15:01:20.500069Z",
     "start_time": "2025-01-29T15:01:17.495057Z"
    }
   },
   "cell_type": "code",
   "source": [
    "# Load the dataset directly from the Rdatasets repository\n",
    "url = \"https://vincentarelbundock.github.io/Rdatasets/csv/AER/CollegeDistance.csv\"\n",
    "df = pd.read_csv(url)\n",
    "\n",
    "# Display the first few rows\n",
    "print(df.head())"
   ],
   "id": "e6d4378dd11952d9",
   "outputs": [
    {
     "name": "stdout",
     "output_type": "stream",
     "text": [
      "   rownames  gender ethnicity      score fcollege mcollege home urban  unemp  \\\n",
      "0         1    male     other  39.150002      yes       no  yes   yes    6.2   \n",
      "1         2  female     other  48.869999       no       no  yes   yes    6.2   \n",
      "2         3    male     other  48.740002       no       no  yes   yes    6.2   \n",
      "3         4    male      afam  40.400002       no       no  yes   yes    6.2   \n",
      "4         5  female     other  40.480000       no       no   no   yes    5.6   \n",
      "\n",
      "   wage  distance  tuition  education income region  \n",
      "0  8.09       0.2  0.88915         12   high  other  \n",
      "1  8.09       0.2  0.88915         12    low  other  \n",
      "2  8.09       0.2  0.88915         12    low  other  \n",
      "3  8.09       0.2  0.88915         12    low  other  \n",
      "4  8.09       0.4  0.88915         13    low  other  \n"
     ]
    }
   ],
   "execution_count": 2
  },
  {
   "metadata": {
    "ExecuteTime": {
     "end_time": "2025-01-29T15:01:20.694842Z",
     "start_time": "2025-01-29T15:01:20.676691Z"
    }
   },
   "cell_type": "code",
   "source": [
    "# Drop the unnecessary index column\n",
    "df = df.drop(columns=[\"rownames\"])\n",
    "\n",
    "# Summary of the dataset\n",
    "df.info()\n",
    "df.describe()\n"
   ],
   "id": "18432e689e8c89ab",
   "outputs": [
    {
     "name": "stdout",
     "output_type": "stream",
     "text": [
      "<class 'pandas.core.frame.DataFrame'>\n",
      "RangeIndex: 4739 entries, 0 to 4738\n",
      "Data columns (total 14 columns):\n",
      " #   Column     Non-Null Count  Dtype  \n",
      "---  ------     --------------  -----  \n",
      " 0   gender     4739 non-null   object \n",
      " 1   ethnicity  4739 non-null   object \n",
      " 2   score      4739 non-null   float64\n",
      " 3   fcollege   4739 non-null   object \n",
      " 4   mcollege   4739 non-null   object \n",
      " 5   home       4739 non-null   object \n",
      " 6   urban      4739 non-null   object \n",
      " 7   unemp      4739 non-null   float64\n",
      " 8   wage       4739 non-null   float64\n",
      " 9   distance   4739 non-null   float64\n",
      " 10  tuition    4739 non-null   float64\n",
      " 11  education  4739 non-null   int64  \n",
      " 12  income     4739 non-null   object \n",
      " 13  region     4739 non-null   object \n",
      "dtypes: float64(5), int64(1), object(8)\n",
      "memory usage: 518.5+ KB\n"
     ]
    },
    {
     "data": {
      "text/plain": [
       "             score        unemp         wage     distance      tuition  \\\n",
       "count  4739.000000  4739.000000  4739.000000  4739.000000  4739.000000   \n",
       "mean     50.889029     7.597215     9.500506     1.802870     0.814608   \n",
       "std       8.701910     2.763581     1.343067     2.297128     0.339504   \n",
       "min      28.950001     1.400000     6.590000     0.000000     0.257510   \n",
       "25%      43.924999     5.900000     8.850000     0.400000     0.484990   \n",
       "50%      51.189999     7.100000     9.680000     1.000000     0.824480   \n",
       "75%      57.769999     8.900000    10.150000     2.500000     1.127020   \n",
       "max      72.809998    24.900000    12.960000    20.000000     1.404160   \n",
       "\n",
       "         education  \n",
       "count  4739.000000  \n",
       "mean     13.807765  \n",
       "std       1.789107  \n",
       "min      12.000000  \n",
       "25%      12.000000  \n",
       "50%      13.000000  \n",
       "75%      16.000000  \n",
       "max      18.000000  "
      ],
      "text/html": [
       "<div>\n",
       "<style scoped>\n",
       "    .dataframe tbody tr th:only-of-type {\n",
       "        vertical-align: middle;\n",
       "    }\n",
       "\n",
       "    .dataframe tbody tr th {\n",
       "        vertical-align: top;\n",
       "    }\n",
       "\n",
       "    .dataframe thead th {\n",
       "        text-align: right;\n",
       "    }\n",
       "</style>\n",
       "<table border=\"1\" class=\"dataframe\">\n",
       "  <thead>\n",
       "    <tr style=\"text-align: right;\">\n",
       "      <th></th>\n",
       "      <th>score</th>\n",
       "      <th>unemp</th>\n",
       "      <th>wage</th>\n",
       "      <th>distance</th>\n",
       "      <th>tuition</th>\n",
       "      <th>education</th>\n",
       "    </tr>\n",
       "  </thead>\n",
       "  <tbody>\n",
       "    <tr>\n",
       "      <th>count</th>\n",
       "      <td>4739.000000</td>\n",
       "      <td>4739.000000</td>\n",
       "      <td>4739.000000</td>\n",
       "      <td>4739.000000</td>\n",
       "      <td>4739.000000</td>\n",
       "      <td>4739.000000</td>\n",
       "    </tr>\n",
       "    <tr>\n",
       "      <th>mean</th>\n",
       "      <td>50.889029</td>\n",
       "      <td>7.597215</td>\n",
       "      <td>9.500506</td>\n",
       "      <td>1.802870</td>\n",
       "      <td>0.814608</td>\n",
       "      <td>13.807765</td>\n",
       "    </tr>\n",
       "    <tr>\n",
       "      <th>std</th>\n",
       "      <td>8.701910</td>\n",
       "      <td>2.763581</td>\n",
       "      <td>1.343067</td>\n",
       "      <td>2.297128</td>\n",
       "      <td>0.339504</td>\n",
       "      <td>1.789107</td>\n",
       "    </tr>\n",
       "    <tr>\n",
       "      <th>min</th>\n",
       "      <td>28.950001</td>\n",
       "      <td>1.400000</td>\n",
       "      <td>6.590000</td>\n",
       "      <td>0.000000</td>\n",
       "      <td>0.257510</td>\n",
       "      <td>12.000000</td>\n",
       "    </tr>\n",
       "    <tr>\n",
       "      <th>25%</th>\n",
       "      <td>43.924999</td>\n",
       "      <td>5.900000</td>\n",
       "      <td>8.850000</td>\n",
       "      <td>0.400000</td>\n",
       "      <td>0.484990</td>\n",
       "      <td>12.000000</td>\n",
       "    </tr>\n",
       "    <tr>\n",
       "      <th>50%</th>\n",
       "      <td>51.189999</td>\n",
       "      <td>7.100000</td>\n",
       "      <td>9.680000</td>\n",
       "      <td>1.000000</td>\n",
       "      <td>0.824480</td>\n",
       "      <td>13.000000</td>\n",
       "    </tr>\n",
       "    <tr>\n",
       "      <th>75%</th>\n",
       "      <td>57.769999</td>\n",
       "      <td>8.900000</td>\n",
       "      <td>10.150000</td>\n",
       "      <td>2.500000</td>\n",
       "      <td>1.127020</td>\n",
       "      <td>16.000000</td>\n",
       "    </tr>\n",
       "    <tr>\n",
       "      <th>max</th>\n",
       "      <td>72.809998</td>\n",
       "      <td>24.900000</td>\n",
       "      <td>12.960000</td>\n",
       "      <td>20.000000</td>\n",
       "      <td>1.404160</td>\n",
       "      <td>18.000000</td>\n",
       "    </tr>\n",
       "  </tbody>\n",
       "</table>\n",
       "</div>"
      ]
     },
     "execution_count": 3,
     "metadata": {},
     "output_type": "execute_result"
    }
   ],
   "execution_count": 3
  },
  {
   "metadata": {
    "ExecuteTime": {
     "end_time": "2025-01-29T15:01:21.530511Z",
     "start_time": "2025-01-29T15:01:21.509178Z"
    }
   },
   "cell_type": "code",
   "source": [
    "# Ensure the target variable `education` is binary\n",
    "df['education'] = (df['education'] > 16).astype(int)\n",
    "\n",
    "df[\"environment\"] = np.where(df[\"distance\"] <= (df['distance'].median()).astype(int), 0, 1)\n",
    "e = df['environment'].values\n",
    "E = len(df['environment'].unique())\n",
    "\n",
    "scaler = StandardScaler()\n",
    "continuous_cols = ['score', 'tuition', 'unemp', 'wage']\n",
    "df[continuous_cols] = scaler.fit_transform(df[continuous_cols])\n",
    "\n",
    "# Convert categorical variables to dummies\n",
    "df = pd.get_dummies(\n",
    "    df,\n",
    "    columns=['gender', 'ethnicity', 'fcollege', 'mcollege', 'home', 'urban', 'income', 'region'],\n",
    "    drop_first=True\n",
    ")"
   ],
   "id": "c958b646707328ed",
   "outputs": [],
   "execution_count": 4
  },
  {
   "metadata": {
    "ExecuteTime": {
     "end_time": "2025-01-29T15:01:21.641945Z",
     "start_time": "2025-01-29T15:01:21.566946Z"
    }
   },
   "cell_type": "code",
   "source": [
    "n_environments = 2\n",
    "\n",
    "X_cols = [col for col in df.columns if col not in ['education', 'environment', 'distance']]\n",
    "X = df[X_cols].values\n",
    "Y = df['education'].values\n",
    "\n",
    "# Convert to JAX arrays\n",
    "X_jax = jnp.array(X, dtype=jnp.float32)\n",
    "Y_jax = jnp.array(Y, dtype=jnp.int32)  # Must be integers for Bernoulli\n",
    "e_jax = jnp.array(e, dtype=jnp.int32)"
   ],
   "id": "a2d43dd3b65979f0",
   "outputs": [],
   "execution_count": 5
  },
  {
   "metadata": {},
   "cell_type": "markdown",
   "source": "# RUN THIS FOR HORSESHOE",
   "id": "b072dce4e1c6ac1e"
  },
  {
   "metadata": {
    "ExecuteTime": {
     "end_time": "2025-01-29T14:21:55.690212Z",
     "start_time": "2025-01-29T14:21:34.945597Z"
    }
   },
   "cell_type": "code",
   "source": [
    "kernel = NUTS(horseshoe_hierarchical_model)\n",
    "mcmc = MCMC(kernel, num_warmup=1000, num_samples=2000, num_chains=1)\n",
    "mcmc.run(\n",
    "random.PRNGKey(42), N=X_jax.shape[0], D=X_jax.shape[1],\n",
    "         E=E, e=e_jax, X=X_jax, y=Y_jax\n",
    ")\n",
    "posterior_samples = mcmc.get_samples()\n",
    "mcmc.print_summary()\n"
   ],
   "id": "fde3b3a45b3125d7",
   "outputs": [
    {
     "name": "stderr",
     "output_type": "stream",
     "text": [
      "sample: 100%|██████████| 3000/3000 [00:19<00:00, 157.10it/s, 63 steps of size 6.86e-02. acc. prob=0.87] \n"
     ]
    },
    {
     "name": "stdout",
     "output_type": "stream",
     "text": [
      "\n",
      "                      mean       std    median      5.0%     95.0%     n_eff     r_hat\n",
      "       beta[0,0]      0.05      0.01      0.05      0.04      0.06   2315.22      1.00\n",
      "       beta[0,1]      0.00      0.00      0.00     -0.00      0.01    945.22      1.00\n",
      "       beta[0,2]     -0.00      0.00     -0.00     -0.01      0.00   2011.16      1.00\n",
      "       beta[0,3]      0.00      0.00      0.00     -0.01      0.01   1354.22      1.00\n",
      "       beta[0,4]      0.00      0.01      0.00     -0.01      0.01   1394.94      1.00\n",
      "       beta[0,5]      0.02      0.01      0.02      0.00      0.04   1377.88      1.00\n",
      "       beta[0,6]      0.00      0.01      0.00     -0.01      0.01   1021.18      1.00\n",
      "       beta[0,7]      0.05      0.01      0.05      0.02      0.07   1615.37      1.00\n",
      "       beta[0,8]      0.04      0.02      0.04      0.02      0.07   1399.71      1.00\n",
      "       beta[0,9]      0.04      0.01      0.04      0.03      0.06   1262.31      1.00\n",
      "      beta[0,10]      0.01      0.01      0.01     -0.00      0.02   1010.98      1.00\n",
      "      beta[0,11]      0.01      0.01      0.01     -0.00      0.02    731.71      1.00\n",
      "      beta[0,12]     -0.01      0.01     -0.00     -0.03      0.01    797.65      1.00\n",
      "       beta[1,0]      0.04      0.01      0.04      0.03      0.05   2093.09      1.00\n",
      "       beta[1,1]     -0.00      0.00     -0.00     -0.01      0.00   2228.90      1.00\n",
      "       beta[1,2]     -0.01      0.01     -0.01     -0.01      0.00    989.89      1.00\n",
      "       beta[1,3]     -0.00      0.00     -0.00     -0.01      0.01   1289.04      1.00\n",
      "       beta[1,4]      0.01      0.01      0.01     -0.00      0.02   1175.38      1.00\n",
      "       beta[1,5]      0.04      0.02      0.04      0.01      0.07    878.25      1.00\n",
      "       beta[1,6]      0.01      0.01      0.00     -0.01      0.02    742.61      1.00\n",
      "       beta[1,7]      0.06      0.02      0.06      0.03      0.08   1797.09      1.00\n",
      "       beta[1,8]      0.01      0.02      0.01     -0.02      0.04   1717.77      1.00\n",
      "       beta[1,9]      0.03      0.01      0.04      0.02      0.05   1023.19      1.00\n",
      "      beta[1,10]     -0.00      0.01     -0.00     -0.02      0.02   1124.81      1.00\n",
      "      beta[1,11]     -0.00      0.01     -0.00     -0.01      0.01   1417.99      1.00\n",
      "      beta[1,12]     -0.00      0.01     -0.00     -0.02      0.01   1239.66      1.00\n",
      " lambda_local[0]      3.40      3.24      2.58      0.60      6.27    953.27      1.00\n",
      " lambda_local[1]      0.42      0.55      0.26      0.00      0.96    706.93      1.00\n",
      " lambda_local[2]      0.59      0.61      0.40      0.01      1.29    723.46      1.00\n",
      " lambda_local[3]      0.42      0.64      0.26      0.01      0.94   1327.38      1.00\n",
      " lambda_local[4]      0.71      0.81      0.48      0.01      1.55    898.57      1.00\n",
      " lambda_local[5]      2.75      3.12      2.06      0.36      5.32    898.76      1.00\n",
      " lambda_local[6]      0.73      0.81      0.51      0.01      1.56    999.66      1.00\n",
      " lambda_local[7]      3.91      3.44      2.96      0.71      7.72    687.46      1.00\n",
      " lambda_local[8]      2.66      2.56      1.91      0.27      5.12    628.88      1.01\n",
      " lambda_local[9]      3.01      2.85      2.25      0.56      5.73    920.50      1.00\n",
      "lambda_local[10]      0.83      1.04      0.58      0.01      1.68   1066.74      1.00\n",
      "lambda_local[11]      0.75      0.82      0.53      0.01      1.59    731.29      1.00\n",
      "lambda_local[12]      0.82      1.01      0.57      0.01      1.71    896.37      1.00\n",
      "       sigma_obs      0.24      0.00      0.24      0.24      0.25   2019.26      1.00\n",
      "      tau_global      0.02      0.01      0.02      0.01      0.03    671.80      1.00\n",
      "\n",
      "Number of divergences: 96\n"
     ]
    }
   ],
   "execution_count": 6
  },
  {
   "metadata": {
    "ExecuteTime": {
     "end_time": "2025-01-29T14:23:22.101400Z",
     "start_time": "2025-01-29T14:23:22.096844Z"
    }
   },
   "cell_type": "code",
   "source": "X_cols[0], X_cols[5], X_cols[7], X_cols[9]",
   "id": "23bae436faf585f1",
   "outputs": [
    {
     "data": {
      "text/plain": [
       "('score', 'ethnicity_hispanic', 'fcollege_yes', 'home_yes')"
      ]
     },
     "execution_count": 10,
     "metadata": {},
     "output_type": "execute_result"
    }
   ],
   "execution_count": 10
  },
  {
   "metadata": {},
   "cell_type": "markdown",
   "source": "# RUN THIS FOR SPIKE AND SLAB",
   "id": "3088522abf73ffa6"
  },
  {
   "metadata": {
    "ExecuteTime": {
     "end_time": "2025-01-29T14:38:28.589513Z",
     "start_time": "2025-01-29T14:36:33.494770Z"
    }
   },
   "cell_type": "code",
   "source": [
    "# 1) Define a base kernel for the *continuous* parameters\n",
    "base_kernel = NUTS(spike_slab_hierarchical_model)\n",
    "\n",
    "# 2) Wrap it with DiscreteHMCGibbs to handle the discrete site z\n",
    "kernel = DiscreteHMCGibbs(base_kernel, modified=True)\n",
    "# \"modified=True\" uses a 'random-propose' Gibbs update (somewhat better mixing),\n",
    "# or set \"modified=False\" for standard approach.\n",
    "\n",
    "mcmc = MCMC(kernel, num_warmup=1000, num_samples=2000, num_chains=1)\n",
    "mcmc.run(random.PRNGKey(42), N=X_jax.shape[0], D=X_jax.shape[1],\n",
    "         E=E, e=e_jax, X=X_jax, y=Y_jax)\n",
    "posterior = mcmc.get_samples()\n",
    "mcmc.print_summary()\n"
   ],
   "id": "ed3498427927ebe7",
   "outputs": [
    {
     "name": "stderr",
     "output_type": "stream",
     "text": [
      "sample: 100%|██████████| 3000/3000 [01:54<00:00, 26.10it/s, 511 steps of size 1.14e-02. acc. prob=0.80] "
     ]
    },
    {
     "name": "stdout",
     "output_type": "stream",
     "text": [
      "\n",
      "                     mean       std    median      5.0%     95.0%     n_eff     r_hat\n",
      "          mu[0]      0.07      0.21      0.05     -0.19      0.30    298.52      1.00\n",
      "          mu[1]     -0.01      1.02      0.00     -1.58      1.70   1551.44      1.00\n",
      "          mu[2]      0.02      1.02      0.05     -1.72      1.59    860.39      1.01\n",
      "          mu[3]     -0.04      0.98     -0.07     -1.62      1.57   1259.59      1.00\n",
      "          mu[4]      0.03      1.01      0.03     -1.66      1.69   1381.87      1.00\n",
      "          mu[5]     -0.04      1.02     -0.08     -1.69      1.55    983.59      1.00\n",
      "          mu[6]      0.01      0.97      0.01     -1.50      1.65   1300.13      1.00\n",
      "          mu[7]      0.00      0.34      0.05     -0.61      0.42     93.30      1.05\n",
      "          mu[8]      0.00      1.00      0.03     -1.62      1.62   1345.10      1.00\n",
      "          mu[9]     -0.04      0.96     -0.04     -1.80      1.40   1482.46      1.00\n",
      "         mu[10]     -0.00      0.95     -0.04     -1.65      1.44   1179.58      1.00\n",
      "         mu[11]      0.01      1.02      0.02     -1.65      1.69   1280.34      1.00\n",
      "         mu[12]     -0.01      0.99     -0.01     -1.66      1.58   1052.62      1.00\n",
      "      p_slab[0]      0.67      0.24      0.71      0.31      1.00   1133.03      1.00\n",
      "      p_slab[1]      0.34      0.24      0.29      0.00      0.70   1810.41      1.00\n",
      "      p_slab[2]      0.32      0.24      0.28      0.00      0.68   1595.54      1.00\n",
      "      p_slab[3]      0.34      0.23      0.30      0.00      0.68   1480.39      1.00\n",
      "      p_slab[4]      0.33      0.23      0.29      0.00      0.68   1403.14      1.00\n",
      "      p_slab[5]      0.34      0.24      0.29      0.00      0.70   1448.13      1.00\n",
      "      p_slab[6]      0.34      0.24      0.29      0.00      0.70   1181.01      1.00\n",
      "      p_slab[7]      0.59      0.27      0.62      0.17      0.99     16.13      1.09\n",
      "      p_slab[8]      0.35      0.24      0.31      0.00      0.70   1138.26      1.00\n",
      "      p_slab[9]      0.34      0.23      0.29      0.00      0.69   1649.42      1.00\n",
      "     p_slab[10]      0.33      0.23      0.30      0.00      0.68   1310.73      1.00\n",
      "     p_slab[11]      0.33      0.23      0.29      0.00      0.68   1234.87      1.00\n",
      "     p_slab[12]      0.33      0.24      0.30      0.00      0.69   1211.73      1.00\n",
      "      sigma_obs      0.24      0.00      0.24      0.24      0.25   1869.59      1.00\n",
      "  slabBeta[0,0]      0.05      0.00      0.05      0.04      0.06   1376.08      1.00\n",
      "  slabBeta[0,1]     -0.10      2.96     -0.11     -3.21      3.95    392.95      1.00\n",
      "  slabBeta[0,2]     -0.23      3.33     -0.05     -4.42      4.45    388.46      1.01\n",
      "  slabBeta[0,3]      0.15      5.25     -0.00     -5.08      5.52    480.30      1.01\n",
      "  slabBeta[0,4]      0.03      3.66      0.04     -3.87      4.84    876.29      1.00\n",
      "  slabBeta[0,5]      0.16      3.99     -0.02     -4.85      4.70    277.98      1.01\n",
      "  slabBeta[0,6]      0.11      5.91     -0.04     -5.77      5.22    957.94      1.00\n",
      "  slabBeta[0,7]      0.09      0.14      0.05     -0.12      0.31     10.27      1.09\n",
      "  slabBeta[0,8]     -0.09      4.54      0.04     -4.20      3.53    311.97      1.00\n",
      "  slabBeta[0,9]      1.27      8.34      0.12     -5.56      7.40     79.21      1.00\n",
      " slabBeta[0,10]     -0.12      3.03     -0.04     -3.41      3.83    254.90      1.00\n",
      " slabBeta[0,11]     -0.04      3.71      0.04     -4.01      3.46    480.11      1.00\n",
      " slabBeta[0,12]      0.01      4.85     -0.08     -6.70      8.22    210.41      1.00\n",
      "  slabBeta[1,0]      0.04      0.01      0.04      0.03      0.05   1311.68      1.00\n",
      "  slabBeta[1,1]     -0.04      3.35     -0.08     -3.84      3.66    334.94      1.00\n",
      "  slabBeta[1,2]     -0.04      3.33      0.06     -4.27      4.40    516.82      1.02\n",
      "  slabBeta[1,3]     -0.36      7.85     -0.11     -6.39      5.45    266.52      1.00\n",
      "  slabBeta[1,4]      0.03      3.30      0.01     -4.31      3.62    636.12      1.00\n",
      "  slabBeta[1,5]     -0.22      4.06     -0.06     -5.29      5.05    411.73      1.00\n",
      "  slabBeta[1,6]      0.10      6.08     -0.00     -4.84      6.52    506.68      1.00\n",
      "  slabBeta[1,7]     -0.11      0.42      0.06     -0.83      0.11      6.90      1.18\n",
      "  slabBeta[1,8]     -0.19      3.95     -0.01     -3.73      3.63    275.14      1.00\n",
      "  slabBeta[1,9]     -0.23      8.19     -0.06     -6.29      6.37     92.11      1.02\n",
      " slabBeta[1,10]     -0.06      2.96     -0.03     -3.10      3.44    391.46      1.01\n",
      " slabBeta[1,11]      0.33      3.59      0.09     -3.16      3.72    226.75      1.00\n",
      " slabBeta[1,12]      1.10      7.37      0.07     -7.84      9.86    118.84      1.00\n",
      " spikeBeta[0,0]      0.04      1.24      0.00     -0.97      1.41    137.89      1.01\n",
      " spikeBeta[0,1]      0.00      0.01      0.00     -0.00      0.01    787.91      1.00\n",
      " spikeBeta[0,2]     -0.00      0.00     -0.00     -0.01      0.01   1204.02      1.00\n",
      " spikeBeta[0,3]      0.00      0.00      0.00     -0.01      0.01    953.58      1.00\n",
      " spikeBeta[0,4]      0.00      0.01      0.00     -0.01      0.02   1133.35      1.00\n",
      " spikeBeta[0,5]      0.02      0.01      0.02     -0.00      0.04   1246.14      1.00\n",
      " spikeBeta[0,6]      0.00      0.01      0.00     -0.01      0.02    919.88      1.00\n",
      " spikeBeta[0,7]     -0.00      0.61      0.03     -0.60      0.55    640.82      1.00\n",
      " spikeBeta[0,8]      0.05      0.02      0.05      0.02      0.07   1287.36      1.00\n",
      " spikeBeta[0,9]      0.04      0.01      0.04      0.02      0.06    996.49      1.00\n",
      "spikeBeta[0,10]      0.01      0.01      0.01     -0.00      0.03    931.16      1.00\n",
      "spikeBeta[0,11]      0.01      0.01      0.01     -0.00      0.02    802.22      1.00\n",
      "spikeBeta[0,12]     -0.01      0.01     -0.01     -0.03      0.01    729.22      1.00\n",
      " spikeBeta[1,0]      0.05      1.35     -0.00     -1.15      1.76    272.87      1.00\n",
      " spikeBeta[1,1]     -0.00      0.00     -0.00     -0.01      0.01   1530.29      1.00\n",
      " spikeBeta[1,2]     -0.01      0.01     -0.01     -0.02      0.00    723.60      1.01\n",
      " spikeBeta[1,3]     -0.00      0.01     -0.00     -0.01      0.01    972.71      1.01\n",
      " spikeBeta[1,4]      0.01      0.01      0.01     -0.00      0.02    770.83      1.00\n",
      " spikeBeta[1,5]      0.05      0.02      0.05      0.02      0.08    752.73      1.00\n",
      " spikeBeta[1,6]      0.01      0.01      0.01     -0.01      0.03    549.95      1.00\n",
      " spikeBeta[1,7]      0.00      0.97      0.04     -0.60      0.69    315.95      1.00\n",
      " spikeBeta[1,8]      0.01      0.02      0.01     -0.02      0.04   1250.90      1.00\n",
      " spikeBeta[1,9]      0.03      0.01      0.03      0.01      0.05    684.23      1.00\n",
      "spikeBeta[1,10]     -0.00      0.02     -0.00     -0.03      0.03   1122.36      1.00\n",
      "spikeBeta[1,11]     -0.00      0.01     -0.00     -0.02      0.01   1045.58      1.00\n",
      "spikeBeta[1,12]     -0.01      0.01     -0.00     -0.03      0.01    804.86      1.00\n",
      " spike_scale[0]      0.76      1.53      0.29      0.01      1.73    123.23      1.00\n",
      " spike_scale[1]      0.02      0.04      0.01      0.00      0.04    937.02      1.00\n",
      " spike_scale[2]      0.03      0.05      0.01      0.00      0.06    967.25      1.00\n",
      " spike_scale[3]      0.02      0.03      0.01      0.00      0.04    828.96      1.00\n",
      " spike_scale[4]      0.03      0.05      0.02      0.00      0.07   1091.25      1.00\n",
      " spike_scale[5]      0.10      0.11      0.07      0.01      0.20    896.60      1.00\n",
      " spike_scale[6]      0.03      0.05      0.02      0.00      0.08    874.43      1.00\n",
      " spike_scale[7]      0.45      1.13      0.18      0.01      0.83    278.28      1.00\n",
      " spike_scale[8]      0.09      0.09      0.06      0.01      0.19    970.51      1.00\n",
      " spike_scale[9]      0.09      0.09      0.06      0.01      0.17    764.13      1.01\n",
      "spike_scale[10]      0.04      0.07      0.02      0.00      0.10    755.33      1.00\n",
      "spike_scale[11]      0.03      0.06      0.02      0.00      0.08   1023.33      1.00\n",
      "spike_scale[12]      0.04      0.07      0.02      0.00      0.09    736.50      1.00\n",
      "         tau[0]      0.20      0.43      0.06      0.00      0.53    320.05      1.00\n",
      "         tau[1]      1.89      3.42      0.86      0.02      4.22    196.72      1.00\n",
      "         tau[2]      2.16      3.22      1.05      0.02      5.45    211.72      1.01\n",
      "         tau[3]      3.17      7.06      0.94      0.04      8.06    125.62      1.01\n",
      "         tau[4]      2.10      3.98      1.08      0.06      4.78    297.26      1.02\n",
      "         tau[5]      2.49      4.37      1.04      0.02      6.68    247.66      1.00\n",
      "         tau[6]      3.33      8.13      1.13      0.07      6.58    241.16      1.01\n",
      "         tau[7]      0.38      0.55      0.15      0.00      1.04     19.32      1.06\n",
      "         tau[8]      2.16      4.68      0.89      0.03      4.49    159.87      1.01\n",
      "         tau[9]      3.96     10.62      1.06      0.02      7.88     83.87      1.00\n",
      "        tau[10]      1.77      2.97      0.83      0.02      4.38    229.77      1.00\n",
      "        tau[11]      2.02      3.82      0.96      0.03      4.24    270.35      1.00\n",
      "        tau[12]      3.52      7.16      1.14      0.02      9.84    120.55      1.02\n",
      "           z[0]      1.00      0.04      1.00      1.00      1.00    802.58      1.00\n",
      "           z[1]      0.00      0.00      0.00      0.00      0.00       nan       nan\n",
      "           z[2]      0.00      0.00      0.00      0.00      0.00       nan       nan\n",
      "           z[3]      0.00      0.00      0.00      0.00      0.00       nan       nan\n",
      "           z[4]      0.00      0.00      0.00      0.00      0.00       nan       nan\n",
      "           z[5]      0.00      0.00      0.00      0.00      0.00       nan       nan\n",
      "           z[6]      0.00      0.04      0.00      0.00      0.00    667.71      1.00\n",
      "           z[7]      0.75      0.43      1.00      0.00      1.00      4.13      1.38\n",
      "           z[8]      0.00      0.04      0.00      0.00      0.00   1201.21      1.00\n",
      "           z[9]      0.00      0.00      0.00      0.00      0.00       nan       nan\n",
      "          z[10]      0.00      0.00      0.00      0.00      0.00       nan       nan\n",
      "          z[11]      0.00      0.02      0.00      0.00      0.00   2002.01      1.00\n",
      "          z[12]      0.00      0.03      0.00      0.00      0.00   2004.02      1.00\n",
      "\n"
     ]
    },
    {
     "name": "stderr",
     "output_type": "stream",
     "text": [
      "\n"
     ]
    }
   ],
   "execution_count": 13
  },
  {
   "metadata": {
    "ExecuteTime": {
     "end_time": "2025-01-29T13:28:09.075800Z",
     "start_time": "2025-01-29T13:28:09.073601Z"
    }
   },
   "cell_type": "code",
   "source": "X_cols[0], X_cols[7]\n",
   "id": "97478455fdc78e6f",
   "outputs": [
    {
     "data": {
      "text/plain": [
       "('score', 'fcollege_yes')"
      ]
     },
     "execution_count": 7,
     "metadata": {},
     "output_type": "execute_result"
    }
   ],
   "execution_count": 7
  },
  {
   "metadata": {
    "ExecuteTime": {
     "end_time": "2025-01-29T13:28:09.108911Z",
     "start_time": "2025-01-29T13:28:09.107559Z"
    }
   },
   "cell_type": "code",
   "source": "",
   "id": "24ec6e62a2013fc5",
   "outputs": [],
   "execution_count": null
  }
 ],
 "metadata": {
  "kernelspec": {
   "display_name": "Python 3",
   "language": "python",
   "name": "python3"
  },
  "language_info": {
   "codemirror_mode": {
    "name": "ipython",
    "version": 2
   },
   "file_extension": ".py",
   "mimetype": "text/x-python",
   "name": "python",
   "nbconvert_exporter": "python",
   "pygments_lexer": "ipython2",
   "version": "2.7.6"
  }
 },
 "nbformat": 4,
 "nbformat_minor": 5
}
